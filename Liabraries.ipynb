{
 "cells": [
  {
   "cell_type": "markdown",
   "id": "a5da42d1-e015-4e8c-ab64-afcff331dbe2",
   "metadata": {},
   "source": [
    "#### Some of the commonly used libraries used by Data Scientists include:\n",
    "##### MATPLOTLIB\n",
    "##### NUMPY\n",
    "##### PANDAS\n",
    "##### SEABORN"
   ]
  },
  {
   "cell_type": "code",
   "execution_count": null,
   "id": "5bc331c4-f16d-419c-82f6-295fa5a6b1e3",
   "metadata": {},
   "outputs": [],
   "source": []
  }
 ],
 "metadata": {
  "kernelspec": {
   "display_name": "",
   "name": ""
  },
  "language_info": {
   "name": ""
  }
 },
 "nbformat": 4,
 "nbformat_minor": 5
}
