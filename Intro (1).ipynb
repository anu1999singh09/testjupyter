{
 "cells": [
  {
   "cell_type": "markdown",
   "id": "1fb8d6d1-d834-46ba-b4da-3c1c4d60189e",
   "metadata": {},
   "source": [
    "#### In This notebook Data Science Tools And Ecosystem are summarized."
   ]
  },
  {
   "cell_type": "code",
   "execution_count": null,
   "id": "52f39106-ddd8-492e-ad8f-f7bfe7cea7d4",
   "metadata": {},
   "outputs": [],
   "source": []
  }
 ],
 "metadata": {
  "kernelspec": {
   "display_name": "",
   "name": ""
  },
  "language_info": {
   "name": ""
  }
 },
 "nbformat": 4,
 "nbformat_minor": 5
}
