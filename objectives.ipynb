{
 "cells": [
  {
   "cell_type": "markdown",
   "id": "df8fae81-e0aa-4088-b37b-4ff0708302dd",
   "metadata": {},
   "source": [
    "#### List popular languages for Data Science:"
   ]
  },
  {
   "cell_type": "markdown",
   "id": "3d80e6a5-53d9-4f4b-b269-2c1d9d77e7d4",
   "metadata": {},
   "source": [
    "##### scala\n",
    "##### java \n",
    "##### r\n",
    "##### sql\n",
    "##### python"
   ]
  },
  {
   "cell_type": "code",
   "execution_count": null,
   "id": "455ff287-3ced-497f-b051-d3092c703ba8",
   "metadata": {},
   "outputs": [],
   "source": []
  }
 ],
 "metadata": {
  "kernelspec": {
   "display_name": "",
   "name": ""
  },
  "language_info": {
   "name": ""
  }
 },
 "nbformat": 4,
 "nbformat_minor": 5
}
