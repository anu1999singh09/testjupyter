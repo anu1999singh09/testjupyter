{
 "cells": [
  {
   "cell_type": "markdown",
   "id": "1a2bb993-df46-472b-b77a-1de8b22e6da6",
   "metadata": {},
   "source": [
    "### AUTHOR"
   ]
  },
  {
   "cell_type": "markdown",
   "id": "576c60e4-7f62-4e59-ba26-1e1636ee4b4e",
   "metadata": {},
   "source": [
    "#### Anuradha Singh"
   ]
  },
  {
   "cell_type": "code",
   "execution_count": null,
   "id": "df898205-0b8f-40f6-a6db-d5eda3cc24d3",
   "metadata": {},
   "outputs": [],
   "source": []
  }
 ],
 "metadata": {
  "kernelspec": {
   "display_name": "",
   "name": ""
  },
  "language_info": {
   "name": ""
  }
 },
 "nbformat": 4,
 "nbformat_minor": 5
}
