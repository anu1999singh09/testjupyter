{
 "cells": [
  {
   "cell_type": "markdown",
   "id": "e8e5518f-b6a5-4100-b546-4eba26d7c5ae",
   "metadata": {},
   "source": [
    "#### Some of the popular languages that Data Scientists use are :\n",
    "### PYTHON\n",
    "### R\n",
    "### SQL"
   ]
  },
  {
   "cell_type": "code",
   "execution_count": null,
   "id": "998623e9-a790-489a-98b9-8c1d6bed3804",
   "metadata": {},
   "outputs": [],
   "source": []
  }
 ],
 "metadata": {
  "kernelspec": {
   "display_name": "",
   "name": ""
  },
  "language_info": {
   "name": ""
  }
 },
 "nbformat": 4,
 "nbformat_minor": 5
}
