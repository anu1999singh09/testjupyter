{
 "cells": [
  {
   "cell_type": "markdown",
   "id": "ed78817e-032d-4ec9-a4a6-add7293c8958",
   "metadata": {},
   "source": [
    "#### Data Science Tools And Ecosystem"
   ]
  },
  {
   "cell_type": "code",
   "execution_count": null,
   "id": "43565cdc-08a2-4516-8a8c-63874215a07c",
   "metadata": {},
   "outputs": [],
   "source": []
  }
 ],
 "metadata": {
  "kernelspec": {
   "display_name": "Python [conda env:base] *",
   "language": "python",
   "name": "conda-base-py"
  },
  "language_info": {
   "codemirror_mode": {
    "name": "ipython",
    "version": 3
   },
   "file_extension": ".py",
   "mimetype": "text/x-python",
   "name": "python",
   "nbconvert_exporter": "python",
   "pygments_lexer": "ipython3",
   "version": "3.12.7"
  }
 },
 "nbformat": 4,
 "nbformat_minor": 5
}
