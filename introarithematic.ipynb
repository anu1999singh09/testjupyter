{
 "cells": [
  {
   "cell_type": "markdown",
   "id": "3c4c8836-df55-47e6-a092-3c82412f4f1d",
   "metadata": {},
   "source": [
    "### Below are a few examples of evaluating arithmetic expressions in Python:\n",
    "####  Addition\n",
    "#### result = 5 + 3\n",
    "#### print(result)  "
   ]
  },
  {
   "cell_type": "markdown",
   "id": "9a1f2764-eef8-4da9-b3d5-8d6d0f5b2911",
   "metadata": {},
   "source": [
    "### Subtraction\n",
    "####  result = 10 - 4\n",
    "#### print(result)  \n"
   ]
  },
  {
   "cell_type": "code",
   "execution_count": null,
   "id": "9b764451-d128-4781-9b5f-5ba23d8862fd",
   "metadata": {},
   "outputs": [],
   "source": []
  }
 ],
 "metadata": {
  "kernelspec": {
   "display_name": "",
   "name": ""
  },
  "language_info": {
   "name": ""
  }
 },
 "nbformat": 4,
 "nbformat_minor": 5
}
